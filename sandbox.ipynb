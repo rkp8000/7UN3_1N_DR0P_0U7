{
 "cells": [
  {
   "cell_type": "code",
   "execution_count": 1,
   "id": "2b9d6f7e",
   "metadata": {},
   "outputs": [],
   "source": [
    "%matplotlib inline\n",
    "import matplotlib.pyplot as plt\n",
    "import numpy as np\n",
    "\n",
    "cc = np.concatenate\n",
    "m_pwr = np.linalg.matrix_power"
   ]
  },
  {
   "cell_type": "markdown",
   "id": "79c27a53",
   "metadata": {},
   "source": [
    "$$\\tau_i \\dot{x_i} = -x_i + x_i^s I^s(t) + x_i^p I^p(t)$$\n",
    "\n",
    "$$\\dot{x_i} = -x_i/\\tau_i + (x_i^s/\\tau_i) I^s(t) + (x_i^p/\\tau_i) I^p(t)$$"
   ]
  },
  {
   "cell_type": "markdown",
   "id": "f10cbc91",
   "metadata": {},
   "source": [
    "$$\\dot{\\mathbf{x}} = A\\mathbf{x} + B\\mathbf{I}(t)$$\n",
    "\n",
    "$$A = \\left( \\begin{matrix} \n",
    "-1/\\tau_1 &  & 0 \\\\\n",
    " & \\dots & \\\\\n",
    "0 & & -1/\\tau_N\n",
    "\\end{matrix} \\right) \\in \\mathbb{R}^{N \\times N}$$\n",
    "\n",
    "$$B = \\left( \\begin{matrix}\n",
    "x^s_1/\\tau_1 & x^p_1/\\tau_1 \\\\\n",
    "\\dots & \\dots \\\\\n",
    "x^s_N/\\tau_N & x^p_N/\\tau_N \\\\\n",
    "\\end{matrix}\n",
    "\\right) \\in \\mathbb{R}^{N \\times 2}$$\n",
    "\n",
    "$$\\mathbf{I}(t) = \\left( \\begin{matrix}\n",
    "I^s(t) \\\\ I^p(t)\n",
    "\\end{matrix} \\right) \\in \\mathbb{R}^2$$\n",
    "\n",
    "Then controllable subspace (w/ no constraints on $\\mathbf{I}$) is column space of $W$ where \n",
    "\n",
    "$$W = [B \\quad AB \\quad A^2B \\quad ... \\quad A^{N-1}B]$$"
   ]
  },
  {
   "cell_type": "code",
   "execution_count": 2,
   "id": "b8e14bd4",
   "metadata": {},
   "outputs": [
    {
     "data": {
      "text/plain": [
       "7"
      ]
     },
     "execution_count": 2,
     "metadata": {},
     "output_type": "execute_result"
    }
   ],
   "source": [
    "# time constants\n",
    "tau = np.array([1, 1, 3, 3, 5, 5, 7])\n",
    "a = np.diag(-1/tau)\n",
    "\n",
    "n = len(tau)\n",
    "\n",
    "# selectivities\n",
    "b = np.array([\n",
    "    [0, 1],\n",
    "    [1, 0],\n",
    "    [0, 3],\n",
    "    [3, 0],\n",
    "    [0, 5],\n",
    "    [5, 0],\n",
    "    [7, 7],\n",
    "]) / np.tile(tau[:, None], (1, 2))\n",
    "\n",
    "w = cc([m_pwr(a, i)@b for i in range(n)], axis=1)\n",
    "\n",
    "np.linalg.matrix_rank(w)"
   ]
  },
  {
   "cell_type": "code",
   "execution_count": 39,
   "id": "246da6e0",
   "metadata": {},
   "outputs": [
    {
     "data": {
      "text/plain": [
       "7"
      ]
     },
     "execution_count": 39,
     "metadata": {},
     "output_type": "execute_result"
    }
   ],
   "source": [
    "# time constants\n",
    "tau = np.array([1, 2, 3, 4, 5, 6, 7])\n",
    "a = np.diag(-1/tau)\n",
    "\n",
    "n = len(tau)\n",
    "\n",
    "# selectivities\n",
    "b = np.array([\n",
    "    [1],\n",
    "    [1],\n",
    "    [1],\n",
    "    [3],\n",
    "    [1],\n",
    "    [5],\n",
    "    [7],\n",
    "]) / tau\n",
    "\n",
    "w = cc([m_pwr(a, i)@b for i in range(n)], axis=1)\n",
    "\n",
    "np.linalg.matrix_rank(w)"
   ]
  },
  {
   "cell_type": "code",
   "execution_count": 25,
   "id": "621186a4",
   "metadata": {},
   "outputs": [
    {
     "data": {
      "text/plain": [
       "8"
      ]
     },
     "execution_count": 25,
     "metadata": {},
     "output_type": "execute_result"
    }
   ],
   "source": [
    "n = 8\n",
    "\n",
    "tau = np.random.exponential(2, n)\n",
    "a = np.diag(-1/tau)\n",
    "\n",
    "b = np.random.normal(0, 10, (n, 2)) / np.tile(tau[:, None], (1, 2))\n",
    "\n",
    "w = cc([m_pwr(a, i)@b for i in range(n)], axis=1)\n",
    "\n",
    "np.linalg.matrix_rank(w)"
   ]
  },
  {
   "cell_type": "code",
   "execution_count": 202,
   "id": "2f1b1731",
   "metadata": {},
   "outputs": [
    {
     "data": {
      "text/plain": [
       "5"
      ]
     },
     "execution_count": 202,
     "metadata": {},
     "output_type": "execute_result"
    }
   ],
   "source": [
    "np.linalg.matrix_rank(w[:, :15])"
   ]
  },
  {
   "cell_type": "code",
   "execution_count": 187,
   "id": "738f616b",
   "metadata": {},
   "outputs": [
    {
     "data": {
      "text/plain": [
       "(8, 16)"
      ]
     },
     "execution_count": 187,
     "metadata": {},
     "output_type": "execute_result"
    }
   ],
   "source": [
    "w[:, :6]"
   ]
  },
  {
   "cell_type": "code",
   "execution_count": 95,
   "id": "532034f8",
   "metadata": {},
   "outputs": [
    {
     "data": {
      "text/plain": [
       "<matplotlib.image.AxesImage at 0x1236994e0>"
      ]
     },
     "execution_count": 95,
     "metadata": {},
     "output_type": "execute_result"
    },
    {
     "data": {
      "image/png": "[encoded data removed]",
      "text/plain": [
       "<Figure size 432x288 with 1 Axes>"
      ]
     },
     "metadata": {
      "needs_background": "light"
     },
     "output_type": "display_data"
    }
   ],
   "source": [
    "plt.imshow(w)"
   ]
  },
  {
   "cell_type": "code",
   "execution_count": 100,
   "id": "4c3f7a57",
   "metadata": {},
   "outputs": [
    {
     "data": {
      "text/plain": [
       "<matplotlib.lines.Line2D at 0x123b93b38>"
      ]
     },
     "execution_count": 100,
     "metadata": {},
     "output_type": "execute_result"
    },
    {
     "data": {
      "image/png": "[encoded data removed]",
      "text/plain": [
       "<Figure size 432x288 with 1 Axes>"
      ]
     },
     "metadata": {
      "needs_background": "light"
     },
     "output_type": "display_data"
    }
   ],
   "source": [
    "plt.spy(w, markersize=5)"
   ]
  },
  {
   "cell_type": "code",
   "execution_count": 101,
   "id": "fdf23bb2",
   "metadata": {},
   "outputs": [
    {
     "data": {
      "text/plain": [
       "array([[-2.55692862e+00,  2.76751212e+00,  9.48830928e-01,\n",
       "        -1.02697474e+00, -3.52094354e-01,  3.81092138e-01,\n",
       "         1.30655980e-01, -1.41416544e-01, -4.84841202e-02,\n",
       "         5.24771750e-02,  1.79915984e-02, -1.94733503e-02,\n",
       "        -6.67636355e-03,  7.22621544e-03,  2.47748028e-03,\n",
       "        -2.68152058e-03, -9.19349058e-04,  9.95064800e-04,\n",
       "         3.41154154e-04, -3.69250925e-04, -1.26596265e-04,\n",
       "         1.37022479e-04,  4.69776321e-05, -5.08466155e-05,\n",
       "        -1.74325673e-05,  1.88682786e-05,  6.46891702e-06,\n",
       "        -7.00168403e-06, -2.40050055e-06,  2.59820095e-06,\n",
       "         8.90783242e-07, -9.64146360e-07, -3.30553886e-07,\n",
       "         3.57777640e-07,  1.22662693e-07, -1.32764946e-07,\n",
       "        -4.55179532e-08,  4.92667204e-08,  1.68909063e-08,\n",
       "        -1.82820075e-08],\n",
       "       [-2.85602371e+00,  5.83216894e+00,  1.54762325e+00,\n",
       "        -3.16033799e+00, -8.38626693e-01,  1.71252519e+00,\n",
       "         4.54435361e-01, -9.27983821e-01, -2.46249612e-01,\n",
       "         5.02856237e-01,  1.33437836e-01, -2.72487935e-01,\n",
       "        -7.23073469e-02,  1.47655869e-01,  3.91819335e-02,\n",
       "        -8.00118201e-02, -2.12319215e-02,  4.33568364e-02,\n",
       "         1.15051619e-02, -2.34942195e-02, -6.23442166e-03,\n",
       "         1.27310569e-02,  3.37831085e-03, -6.89871009e-03,\n",
       "        -1.83064041e-03,  3.73827573e-03,  9.91988142e-04,\n",
       "        -2.02569832e-03, -5.37538923e-04,  1.09768620e-03,\n",
       "         2.91281802e-04, -5.94814627e-04, -1.57839897e-04,\n",
       "         3.22318383e-04,  8.55303454e-05, -1.74658012e-04,\n",
       "        -4.63472171e-05,  9.46437520e-05,  2.51146482e-05,\n",
       "        -5.12855934e-05],\n",
       "       [-1.92219102e+00,  6.40922399e-01,  2.53753751e-01,\n",
       "        -8.46099381e-02, -3.34987344e-02,  1.11695919e-02,\n",
       "         4.42226056e-03, -1.47452871e-03, -5.83794844e-04,\n",
       "         1.94656612e-04,  7.70683716e-05, -2.56971577e-05,\n",
       "        -1.01740088e-05,  3.39235284e-06,  1.34309904e-06,\n",
       "        -4.47833879e-07, -1.77306218e-07,  5.91197887e-08,\n",
       "         2.34066841e-08, -7.80456678e-09, -3.08998110e-09,\n",
       "         1.03030244e-09,  4.07916949e-10, -1.36013074e-10,\n",
       "        -5.38502444e-11,  1.79554620e-11,  7.10891966e-12,\n",
       "        -2.37035019e-12, -9.38468142e-13,  3.12916483e-13,\n",
       "         1.23889774e-13, -4.13089702e-14, -1.63550317e-14,\n",
       "         5.45331138e-15,  2.15907296e-15, -7.19906714e-16,\n",
       "        -2.85025191e-16,  9.50368760e-17,  3.76269637e-17,\n",
       "        -1.25460808e-17],\n",
       "       [-8.32923545e+00, -5.51100958e+00,  8.80340173e+00,\n",
       "         5.82474004e+00, -9.30456133e+00, -6.15633054e+00,\n",
       "         9.83425091e+00,  6.50679780e+00, -1.03940946e+01,\n",
       "        -6.87721645e+00,  1.09858091e+01,  7.26872226e+00,\n",
       "        -1.16112087e+01, -7.68251570e+00,  1.22722109e+01,\n",
       "         8.11986555e+00, -1.29708427e+01, -8.58211283e+00,\n",
       "         1.37092462e+01,  9.07067490e+00, -1.44896854e+01,\n",
       "        -9.58704981e+00,  1.53145535e+01,  1.01328209e+01,\n",
       "        -1.61863796e+01, -1.07096616e+01,  1.71078369e+01,\n",
       "         1.13193406e+01, -1.80817510e+01, -1.19637275e+01,\n",
       "         1.91111080e+01,  1.26447979e+01, -2.01990641e+01,\n",
       "        -1.33646403e+01,  2.13489554e+01,  1.41254618e+01,\n",
       "        -2.25643076e+01, -1.49295954e+01,  2.38488473e+01,\n",
       "         1.57795066e+01],\n",
       "       [ 5.49603569e+00, -2.01709333e+00, -1.36657069e+00,\n",
       "         5.01543434e-01,  3.39793179e-01, -1.24707079e-01,\n",
       "        -8.44884245e-02,  3.10079933e-02,  2.10077610e-02,\n",
       "        -7.71003264e-03, -5.22350871e-03,  1.91707354e-03,\n",
       "         1.29880777e-03, -4.76673851e-04, -3.22944160e-04,\n",
       "         1.18523341e-04,  8.02989730e-05, -2.94704278e-05,\n",
       "        -1.99660680e-05,  7.32772218e-06,  4.96449528e-06,\n",
       "        -1.82201334e-06, -1.23440496e-06,  4.53037453e-07,\n",
       "         3.06930618e-07, -1.12646230e-07, -7.63172600e-08,\n",
       "         2.80091042e-08,  1.89760286e-08, -6.96436901e-09,\n",
       "        -4.71832531e-09,  1.73166680e-09,  1.17319563e-09,\n",
       "        -4.30573092e-10, -2.91711125e-10,  1.07060543e-10,\n",
       "         7.25329846e-11, -2.66202419e-11, -1.80350813e-11,\n",
       "         6.61903310e-12],\n",
       "       [ 3.31026661e+00, -5.09734636e+00, -1.88772330e+00,\n",
       "         2.90682916e+00,  1.07649918e+00, -1.65765777e+00,\n",
       "        -6.13887890e-01,  9.45301262e-01,  3.50077687e-01,\n",
       "        -5.39070544e-01, -1.99636430e-01,  3.07412106e-01,\n",
       "         1.13845314e-01, -1.75305819e-01, -6.49217958e-02,\n",
       "         9.99704611e-02,  3.70225125e-02, -5.70094774e-02,\n",
       "        -2.11125773e-02,  3.25104083e-02,  1.20397264e-02,\n",
       "        -1.85394902e-02, -6.86581318e-03,  1.05723895e-02,\n",
       "         3.91532075e-03, -6.02904489e-03, -2.23276343e-03,\n",
       "         3.43814257e-03,  1.27326287e-03, -1.96064627e-03,\n",
       "        -7.26094990e-04,  1.11808446e-03,  4.14065269e-04,\n",
       "        -6.37602448e-04, -2.36126195e-04,  3.63601227e-04,\n",
       "         1.34654085e-04, -2.07348408e-04, -7.67882726e-05,\n",
       "         1.18243171e-04],\n",
       "       [-3.71096756e+00, -9.11814296e+00,  7.23296611e+00,\n",
       "         1.77719740e+01, -1.40976168e+01, -3.46389677e+01,\n",
       "         2.74773581e+01,  6.75140581e+01, -5.35555207e+01,\n",
       "        -1.31590181e+02,  1.04383900e+02,  2.56479559e+02,\n",
       "        -2.03452387e+02, -4.99898726e+02,  3.96544620e+02,\n",
       "         9.74341726e+02, -7.72896489e+02, -1.89906825e+03,\n",
       "         1.50643573e+03,  3.70143260e+03, -2.93616109e+03,\n",
       "        -7.21438173e+03,  5.72280767e+03,  1.40613944e+04,\n",
       "        -1.11541999e+04, -2.74067578e+04,  2.17404082e+04,\n",
       "         5.34179152e+04, -4.23737565e+04, -1.04115696e+05,\n",
       "         8.25897666e+04,  2.02929637e+05, -1.60973917e+05,\n",
       "        -3.95525739e+05,  3.13750758e+05,  7.70910609e+05,\n",
       "        -6.11524773e+05, -1.50256509e+06,  1.19190963e+06,\n",
       "         2.92861692e+06],\n",
       "       [ 1.26610059e+00,  6.22572421e+00, -5.01136717e-01,\n",
       "        -2.46421099e+00,  1.98355495e-01,  9.75362159e-01,\n",
       "        -7.85113143e-02, -3.86059207e-01,  3.10756527e-02,\n",
       "         1.52806534e-01, -1.23000895e-02, -6.04825284e-02,\n",
       "         4.86851243e-03,  2.39396585e-02, -1.92701145e-03,\n",
       "        -9.47558348e-03,  7.62732597e-04,  3.75054149e-03,\n",
       "        -3.01898058e-04, -1.48450610e-03,  1.19494614e-04,\n",
       "         5.87584050e-04, -4.72972993e-05, -2.32572312e-04,\n",
       "         1.87207979e-05,  9.20547117e-05, -7.40990034e-06,\n",
       "        -3.64362803e-05,  2.93292109e-06,  1.44218856e-05,\n",
       "        -1.16088284e-06, -5.70834296e-06,  4.59490359e-07,\n",
       "         2.25942573e-06, -1.81871402e-07, -8.94305871e-07,\n",
       "         7.19867268e-08,  3.53976225e-07, -2.84931483e-08,\n",
       "        -1.40107733e-07],\n",
       "       [-5.70325231e-01,  1.09193124e+01,  4.11243375e-01,\n",
       "        -7.87356867e+00, -2.96534511e-01,  5.67737981e+00,\n",
       "         2.13821599e-01, -4.09377792e+00, -1.54179951e-01,\n",
       "         2.95189298e+00,  1.11174256e-01, -2.12851609e+00,\n",
       "        -8.01642184e-02,  1.53480522e+00,  5.78038669e-02,\n",
       "        -1.10669920e+00, -4.16805290e-02,  7.98005578e-01,\n",
       "         3.00545031e-02, -5.75416428e-01, -2.16713458e-02,\n",
       "         4.14914475e-01,  1.56265178e-02, -2.99181625e-01,\n",
       "        -1.12677847e-02,  2.15730349e-01,  8.12484099e-03,\n",
       "        -1.55556290e-01, -5.85856429e-03,  1.12166690e-01,\n",
       "         4.22442428e-03, -8.08798309e-02, -3.04609791e-03,\n",
       "         5.83198723e-02,  2.19644427e-03, -4.20526041e-02,\n",
       "        -1.58378607e-03,  3.03227946e-02,  1.14201773e-03,\n",
       "        -2.18648022e-02],\n",
       "       [-2.99226084e+01, -3.93067059e+01,  1.12931819e+02,\n",
       "         1.48348624e+02, -4.26219381e+02, -5.59887015e+02,\n",
       "         1.60860742e+03,  2.11308646e+03, -6.07109376e+03,\n",
       "        -7.97506333e+03,  2.29130980e+04,  3.00989270e+04,\n",
       "        -8.64770140e+04, -1.13597268e+05,  3.26375506e+05,\n",
       "         4.28730873e+05, -1.23178364e+06, -1.61808612e+06,\n",
       "         4.64891176e+06,  6.10686759e+06, -1.75455981e+07,\n",
       "        -2.30481131e+07,  6.62193706e+07,  8.69865786e+07,\n",
       "        -2.49920523e+08, -3.28298669e+08,  9.43232582e+08,\n",
       "         1.23904191e+09, -3.55988253e+09, -4.67630541e+09,\n",
       "         1.34354600e+10,  1.76489853e+10, -5.07071746e+10,\n",
       "        -6.66095674e+10,  1.91375476e+11,  2.51393177e+11,\n",
       "        -7.22275956e+11, -9.48790567e+11,  2.72596346e+12,\n",
       "         3.58085909e+12],\n",
       "       [-1.45292450e+01,  1.00219064e+01,  1.56587566e+01,\n",
       "        -1.08010150e+01, -1.68760771e+01,  1.16406919e+01,\n",
       "         1.81880327e+01, -1.25456458e+01, -1.96019805e+01,\n",
       "         1.35209513e+01,  2.11258494e+01, -1.45720776e+01,\n",
       "        -2.27681848e+01,  1.57049190e+01,  2.45381961e+01,\n",
       "        -1.69258282e+01, -2.64458092e+01,  1.82416515e+01,\n",
       "         2.85017212e+01, -1.96597677e+01, -3.07174609e+01,\n",
       "         2.11881290e+01,  3.31054534e+01, -2.28353060e+01,\n",
       "        -3.56790899e+01,  2.46105354e+01,  3.84528022e+01,\n",
       "        -2.65237722e+01, -4.14421445e+01,  2.85857450e+01,\n",
       "         4.46638800e+01, -3.08080168e+01, -4.81360749e+01,\n",
       "         3.32030492e+01,  5.18782002e+01, -3.57842728e+01,\n",
       "        -5.59112405e+01,  3.85661621e+01,  6.02578115e+01,\n",
       "        -4.15643171e+01],\n",
       "       [ 8.36765940e+00,  1.05241105e+01, -4.74788201e+00,\n",
       "        -5.97147093e+00,  2.69398914e+00,  3.38826403e+00,\n",
       "        -1.52859264e+00, -1.92253019e+00,  8.67336628e-01,\n",
       "         1.09086019e+00, -4.92134272e-01, -6.18963466e-01,\n",
       "         2.79241224e-01,  3.51205201e-01, -1.58443876e-01,\n",
       "        -1.99276856e-01,  8.99024196e-02,  1.13071404e-01,\n",
       "        -5.10114071e-02, -6.41576885e-02,  2.89443117e-02,\n",
       "         3.64036250e-02, -1.64232517e-02, -2.06557303e-02,\n",
       "         9.31869448e-03,  1.17202393e-02, -5.28750750e-03,\n",
       "        -6.65016471e-03,  3.00017729e-03,  3.77336073e-03,\n",
       "        -1.70232643e-03, -2.14103737e-03,  9.65914679e-04,\n",
       "         1.21484304e-03, -5.48068308e-04, -6.89312406e-04,\n",
       "         3.10978678e-04,  3.91121796e-04, -1.76451980e-04,\n",
       "        -2.21925875e-04],\n",
       "       [-4.52362272e-01,  2.15086269e+00,  1.09986942e-01,\n",
       "        -5.22958754e-01, -2.67421229e-02,  1.27151705e-01,\n",
       "         6.50205490e-03, -3.09155475e-02, -1.58090359e-03,\n",
       "         7.51677747e-03,  3.84379428e-04, -1.82762229e-03,\n",
       "        -9.34576569e-05,  4.44366384e-04,  2.27232078e-05,\n",
       "        -1.08042830e-04, -5.52489963e-06,  2.62694332e-05,\n",
       "         1.34331896e-06, -6.38712556e-06, -3.26613323e-07,\n",
       "         1.55295977e-06,  7.94124598e-08, -3.77585195e-07,\n",
       "        -1.93082717e-08,  9.18057134e-08,  4.69459523e-09,\n",
       "        -2.23215558e-08, -1.14143952e-09,  5.42724234e-09,\n",
       "         2.77528544e-10, -1.31957466e-09, -6.74780322e-11,\n",
       "         3.20840155e-10,  1.64065460e-11, -7.80087772e-11,\n",
       "        -3.98907235e-12,  1.89669816e-11,  9.69899343e-13,\n",
       "        -4.61161427e-12],\n",
       "       [ 1.05759484e+02,  1.18663818e+02, -1.01742016e+03,\n",
       "        -1.14156156e+03,  9.78771597e+03,  1.09819725e+04,\n",
       "        -9.41591167e+04, -1.05648022e+05,  9.05823103e+05,\n",
       "         1.01634789e+06, -8.71413755e+06, -9.77740052e+06,\n",
       "         8.38311509e+07,  9.40598807e+07, -8.06466713e+08,\n",
       "        -9.04868441e+08,  7.75831599e+09,  8.70495357e+09,\n",
       "        -7.46360216e+10, -8.37427998e+10,  7.18008358e+11,\n",
       "         8.05616763e+11, -6.90733496e+12, -7.75013937e+12,\n",
       "         6.64494721e+13,  7.45573614e+13, -6.39252673e+14,\n",
       "        -7.17251636e+14,  6.14969490e+15,  6.90005520e+15,\n",
       "        -5.91608749e+16, -6.63794398e+16,  5.69135408e+17,\n",
       "         6.38578953e+17, -5.47515758e+18, -6.14321363e+18,\n",
       "         5.26717370e+19,  5.90985242e+19, -5.06709047e+20,\n",
       "        -5.68535587e+20],\n",
       "       [-4.16359475e+00, -4.27971752e+00,  1.74683198e+00,\n",
       "         1.79555118e+00, -7.32881599e-01, -7.53321688e-01,\n",
       "         3.07479737e-01,  3.16055356e-01, -1.29002814e-01,\n",
       "        -1.32600706e-01,  5.41230006e-02,  5.56324927e-02,\n",
       "        -2.27072504e-02, -2.33405563e-02,  9.52680404e-03,\n",
       "         9.79250688e-03, -3.99696104e-03, -4.10843640e-03,\n",
       "         1.67692098e-03,  1.72369035e-03, -7.03550508e-04,\n",
       "        -7.23172552e-04,  2.95173907e-04,  3.03406316e-04,\n",
       "        -1.23839915e-04, -1.27293814e-04,  5.19569118e-05,\n",
       "         5.34059915e-05, -2.17984700e-05, -2.24064300e-05,\n",
       "         9.14552613e-06,  9.40059512e-06, -3.83699628e-06,\n",
       "        -3.94401022e-06,  1.60980792e-06,  1.65470551e-06,\n",
       "        -6.75393293e-07, -6.94230032e-07,  2.83360576e-07,\n",
       "         2.91263511e-07],\n",
       "       [ 1.67153559e+01, -8.15985766e-01, -3.05072218e+01,\n",
       "         1.48925688e+00,  5.56787774e+01, -2.71804502e+00,\n",
       "        -1.01619422e+02,  4.96070815e+00,  1.85465764e+02,\n",
       "        -9.05379608e+00, -3.38493852e+02,  1.65240972e+01,\n",
       "         6.17785650e+02, -3.01581552e+01, -1.12752154e+03,\n",
       "         5.50416954e+01,  2.05784130e+03, -1.00456683e+02,\n",
       "        -3.75576932e+03,  1.83343647e+02,  6.85466037e+03,\n",
       "        -3.34620772e+02, -1.25104512e+04,  6.10716886e+02,\n",
       "         2.28328437e+04, -1.11462033e+03, -4.16722582e+04,\n",
       "         2.03429528e+03,  7.60561027e+04, -3.71279544e+03,\n",
       "        -1.38810110e+05,  6.77622868e+03,  2.53342545e+05,\n",
       "        -1.23673054e+04, -4.62375870e+05,  2.25715881e+04,\n",
       "         8.43882912e+05, -4.11954402e+04, -1.54017200e+06,\n",
       "         7.51858613e+04],\n",
       "       [ 3.09311046e+00, -6.46738373e+00, -2.80610368e+00,\n",
       "         5.86728133e+00,  2.54572799e+00, -5.32286187e+00,\n",
       "        -2.30951231e+00,  4.82895858e+00,  2.09521485e+00,\n",
       "        -4.38088410e+00, -1.90080186e+00,  3.97438602e+00,\n",
       "         1.72442826e+00, -3.60560652e+00, -1.56442020e+00,\n",
       "         3.27104572e+00,  1.41925914e+00, -2.96752849e+00,\n",
       "        -1.28756743e+00,  2.69217434e+00,  1.16809527e+00,\n",
       "        -2.44237004e+00, -1.05970882e+00,  2.21574485e+00,\n",
       "         9.61379445e-01, -2.01014799e+00, -8.72173959e-01,\n",
       "         1.82362827e+00,  7.91245766e-01, -1.65441553e+00,\n",
       "        -7.17826823e-01,  1.50090389e+00,  6.51220354e-01,\n",
       "        -1.36163644e+00, -5.90794236e-01,  1.23529149e+00,\n",
       "         5.35975000e-01, -1.12066996e+00, -4.86242389e-01,\n",
       "         1.01668406e+00],\n",
       "       [ 2.22499878e+01, -3.77994362e+01, -1.13669418e+02,\n",
       "         1.93107517e+02,  5.80707577e+02, -9.86536227e+02,\n",
       "        -2.96668442e+03,  5.03995775e+03,  1.51560214e+04,\n",
       "        -2.57478371e+04, -7.74281827e+04,  1.31539023e+05,\n",
       "         3.95560506e+05, -6.71998756e+05, -2.02081605e+06,\n",
       "         3.43306738e+06,  1.03238251e+07, -1.75386509e+07,\n",
       "        -5.27417454e+07,  8.96004194e+07,  2.69443900e+08,\n",
       "        -4.57745307e+08, -1.37651901e+09,  2.33850207e+09,\n",
       "         7.03227865e+09, -1.19468006e+10, -3.59260880e+10,\n",
       "         6.10331063e+10,  1.83537067e+11, -3.11802313e+11,\n",
       "        -9.37643279e+11,  1.59291716e+12,  4.79017635e+12,\n",
       "        -8.13780066e+12, -2.44717688e+13,  4.15739132e+13,\n",
       "         1.25019920e+14, -2.12390342e+14, -6.38694353e+14,\n",
       "         1.08504718e+15],\n",
       "       [ 7.47446630e+00, -9.82567995e+00, -6.20783794e+00,\n",
       "         8.16061327e+00,  5.15585333e+00, -6.77770996e+00,\n",
       "        -4.28213877e+00,  5.62915443e+00,  3.55648450e+00,\n",
       "        -4.67523393e+00, -2.95380012e+00,  3.88296548e+00,\n",
       "         2.45324706e+00, -3.22495540e+00, -2.03751807e+00,\n",
       "         2.67845217e+00,  1.69223882e+00, -2.22455977e+00,\n",
       "        -1.40547083e+00,  1.84758429e+00,  1.16729875e+00,\n",
       "        -1.53449135e+00, -9.69487473e-01,  1.27445536e+00,\n",
       "         8.05197439e-01, -1.05848525e+00, -6.68748110e-01,\n",
       "         8.79113590e-01,  5.55421582e-01, -7.30138379e-01,\n",
       "        -4.61299447e-01,  6.06408612e-01,  3.83127316e-01,\n",
       "        -5.03646179e-01, -3.18202290e-01,  4.18297940e-01,\n",
       "         2.64279504e-01, -3.47412875e-01, -2.19494512e-01,\n",
       "         2.88540043e-01],\n",
       "       [-6.43782271e+00, -1.55900402e-01,  1.44145181e+00,\n",
       "         3.49066646e-02, -3.22746280e-01, -7.81572858e-03,\n",
       "         7.22640607e-02,  1.74996993e-03, -1.61801848e-02,\n",
       "        -3.91824603e-04,  3.62280197e-03,  8.77309473e-05,\n",
       "        -8.11158478e-04, -1.96432768e-05,  1.81621320e-04,\n",
       "         4.39820079e-06, -4.06656712e-05, -9.84773081e-07,\n",
       "         9.10519102e-06,  2.20494258e-07, -2.03868524e-06,\n",
       "        -4.93694628e-08,  4.56469006e-07,  1.10540015e-08,\n",
       "        -1.02205063e-07, -2.47503095e-09,  2.28840837e-08,\n",
       "         5.54168392e-10, -5.12382920e-09, -1.24080309e-10,\n",
       "         1.14724391e-09,  2.77820305e-11, -2.56872065e-10,\n",
       "        -6.22049723e-12,  5.75145854e-11,  1.39279185e-12,\n",
       "        -1.28777239e-11, -3.11851139e-13,  2.88336901e-12,\n",
       "         6.98245990e-14]])"
      ]
     },
     "execution_count": 101,
     "metadata": {},
     "output_type": "execute_result"
    }
   ],
   "source": [
    "w"
   ]
  }
 ],
 "metadata": {
  "kernelspec": {
   "display_name": "Python 3",
   "language": "python",
   "name": "python3"
  },
  "language_info": {
   "codemirror_mode": {
    "name": "ipython",
    "version": 3
   },
   "file_extension": ".py",
   "mimetype": "text/x-python",
   "name": "python",
   "nbconvert_exporter": "python",
   "pygments_lexer": "ipython3",
   "version": "3.6.13"
  }
 },
 "nbformat": 4,
 "nbformat_minor": 5
}
